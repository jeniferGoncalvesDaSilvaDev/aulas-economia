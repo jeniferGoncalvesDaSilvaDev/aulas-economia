{
  "nbformat": 4,
  "nbformat_minor": 0,
  "metadata": {
    "colab": {
      "provenance": [],
      "authorship_tag": "ABX9TyMBEmgGnvt+1uJmKNjr+hN7",
      "include_colab_link": true
    },
    "kernelspec": {
      "name": "python3",
      "display_name": "Python 3"
    },
    "language_info": {
      "name": "python"
    }
  },
  "cells": [
    {
      "cell_type": "markdown",
      "metadata": {
        "id": "view-in-github",
        "colab_type": "text"
      },
      "source": [
        "<a href=\"https://colab.research.google.com/github/jeniferGoncalvesDaSilvaDev/aulas-economia/blob/main/economics01.ipynb\" target=\"_parent\"><img src=\"https://colab.research.google.com/assets/colab-badge.svg\" alt=\"Open In Colab\"/></a>"
      ]
    },
    {
      "cell_type": "code",
      "execution_count": null,
      "metadata": {
        "colab": {
          "base_uri": "https://localhost:8080/"
        },
        "id": "Pgr6P3cO4vK_",
        "outputId": "1bcb9466-a498-4f22-ee56-f9a6f88cacdd"
      },
      "outputs": [
        {
          "output_type": "stream",
          "name": "stdout",
          "text": [
            "Requirement already satisfied: yfinance in /usr/local/lib/python3.11/dist-packages (0.2.52)\n",
            "Requirement already satisfied: pandas>=1.3.0 in /usr/local/lib/python3.11/dist-packages (from yfinance) (2.2.2)\n",
            "Requirement already satisfied: numpy>=1.16.5 in /usr/local/lib/python3.11/dist-packages (from yfinance) (1.26.4)\n",
            "Requirement already satisfied: requests>=2.31 in /usr/local/lib/python3.11/dist-packages (from yfinance) (2.32.3)\n",
            "Requirement already satisfied: multitasking>=0.0.7 in /usr/local/lib/python3.11/dist-packages (from yfinance) (0.0.11)\n",
            "Requirement already satisfied: lxml>=4.9.1 in /usr/local/lib/python3.11/dist-packages (from yfinance) (5.3.1)\n",
            "Requirement already satisfied: platformdirs>=2.0.0 in /usr/local/lib/python3.11/dist-packages (from yfinance) (4.3.6)\n",
            "Requirement already satisfied: pytz>=2022.5 in /usr/local/lib/python3.11/dist-packages (from yfinance) (2025.1)\n",
            "Requirement already satisfied: frozendict>=2.3.4 in /usr/local/lib/python3.11/dist-packages (from yfinance) (2.4.6)\n",
            "Requirement already satisfied: peewee>=3.16.2 in /usr/local/lib/python3.11/dist-packages (from yfinance) (3.17.9)\n",
            "Requirement already satisfied: beautifulsoup4>=4.11.1 in /usr/local/lib/python3.11/dist-packages (from yfinance) (4.13.3)\n",
            "Requirement already satisfied: html5lib>=1.1 in /usr/local/lib/python3.11/dist-packages (from yfinance) (1.1)\n",
            "Requirement already satisfied: soupsieve>1.2 in /usr/local/lib/python3.11/dist-packages (from beautifulsoup4>=4.11.1->yfinance) (2.6)\n",
            "Requirement already satisfied: typing-extensions>=4.0.0 in /usr/local/lib/python3.11/dist-packages (from beautifulsoup4>=4.11.1->yfinance) (4.12.2)\n",
            "Requirement already satisfied: six>=1.9 in /usr/local/lib/python3.11/dist-packages (from html5lib>=1.1->yfinance) (1.17.0)\n",
            "Requirement already satisfied: webencodings in /usr/local/lib/python3.11/dist-packages (from html5lib>=1.1->yfinance) (0.5.1)\n",
            "Requirement already satisfied: python-dateutil>=2.8.2 in /usr/local/lib/python3.11/dist-packages (from pandas>=1.3.0->yfinance) (2.8.2)\n",
            "Requirement already satisfied: tzdata>=2022.7 in /usr/local/lib/python3.11/dist-packages (from pandas>=1.3.0->yfinance) (2025.1)\n",
            "Requirement already satisfied: charset-normalizer<4,>=2 in /usr/local/lib/python3.11/dist-packages (from requests>=2.31->yfinance) (3.4.1)\n",
            "Requirement already satisfied: idna<4,>=2.5 in /usr/local/lib/python3.11/dist-packages (from requests>=2.31->yfinance) (3.10)\n",
            "Requirement already satisfied: urllib3<3,>=1.21.1 in /usr/local/lib/python3.11/dist-packages (from requests>=2.31->yfinance) (2.3.0)\n",
            "Requirement already satisfied: certifi>=2017.4.17 in /usr/local/lib/python3.11/dist-packages (from requests>=2.31->yfinance) (2025.1.31)\n"
          ]
        }
      ],
      "source": [
        "!pip install yfinance"
      ]
    },
    {
      "cell_type": "markdown",
      "source": [
        "Colocando em prática a lei da utilidade máxima que diz a percepção de um ganho ou perda de um recurso, a partir da combinações para se obter o mesmo. Neste caso, o retorno financeiro ao se comprar determinado número de Bitcoin e ações da Petrobras"
      ],
      "metadata": {
        "id": "WO4C2o-P4-RT"
      }
    },
    {
      "cell_type": "code",
      "source": [
        "import pandas as pd\n",
        "import yfinance\n",
        "from matplotlib import pyplot as pit"
      ],
      "metadata": {
        "id": "hMSIuZu-5aGE"
      },
      "execution_count": null,
      "outputs": []
    },
    {
      "cell_type": "markdown",
      "source": [
        "Pegando os ativos de Bitcoin (valor em dólar) e ações da Petrobras"
      ],
      "metadata": {
        "id": "JdUBVTVH509M"
      }
    },
    {
      "cell_type": "code",
      "source": [
        "ativos = [\"BTC-USD\", \"PBR-A\"]"
      ],
      "metadata": {
        "id": "TLrNOFSr5rQO"
      },
      "execution_count": null,
      "outputs": []
    },
    {
      "cell_type": "markdown",
      "source": [
        "Baixando os dados dos ativos via Yahoo Finance"
      ],
      "metadata": {
        "id": "wzL9J_BW58Dv"
      }
    },
    {
      "cell_type": "code",
      "source": [
        "dados = yfinance.download (tickers = ativos, period=\"6mo\")\n",
        "dados"
      ],
      "metadata": {
        "colab": {
          "base_uri": "https://localhost:8080/",
          "height": 219
        },
        "id": "Fzi-4Hfn6B6w",
        "outputId": "806594f4-6eff-4037-a31d-3f6c5bd5c390"
      },
      "execution_count": null,
      "outputs": [
        {
          "output_type": "stream",
          "name": "stderr",
          "text": [
            "[*********************100%***********************]  2 of 2 completed\n",
            "ERROR:yfinance:\n",
            "2 Failed downloads:\n",
            "ERROR:yfinance:['BTC-USD', 'PBR-A']: YFRateLimitError('Too Many Requests. Rate limited. Try after a while.')\n"
          ]
        },
        {
          "output_type": "execute_result",
          "data": {
            "text/plain": [
              "Empty DataFrame\n",
              "Columns: [(Adj Close, BTC-USD), (Adj Close, PBR-A), (Close, BTC-USD), (Close, PBR-A), (High, BTC-USD), (High, PBR-A), (Low, BTC-USD), (Low, PBR-A), (Open, BTC-USD), (Open, PBR-A), (Volume, BTC-USD), (Volume, PBR-A)]\n",
              "Index: []"
            ],
            "text/html": [
              "\n",
              "  <div id=\"df-c83349d7-672f-4344-b2c1-a52ceb1f2dbe\" class=\"colab-df-container\">\n",
              "    <div>\n",
              "<style scoped>\n",
              "    .dataframe tbody tr th:only-of-type {\n",
              "        vertical-align: middle;\n",
              "    }\n",
              "\n",
              "    .dataframe tbody tr th {\n",
              "        vertical-align: top;\n",
              "    }\n",
              "\n",
              "    .dataframe thead tr th {\n",
              "        text-align: left;\n",
              "    }\n",
              "\n",
              "    .dataframe thead tr:last-of-type th {\n",
              "        text-align: right;\n",
              "    }\n",
              "</style>\n",
              "<table border=\"1\" class=\"dataframe\">\n",
              "  <thead>\n",
              "    <tr>\n",
              "      <th>Price</th>\n",
              "      <th colspan=\"2\" halign=\"left\">Adj Close</th>\n",
              "      <th colspan=\"2\" halign=\"left\">Close</th>\n",
              "      <th colspan=\"2\" halign=\"left\">High</th>\n",
              "      <th colspan=\"2\" halign=\"left\">Low</th>\n",
              "      <th colspan=\"2\" halign=\"left\">Open</th>\n",
              "      <th colspan=\"2\" halign=\"left\">Volume</th>\n",
              "    </tr>\n",
              "    <tr>\n",
              "      <th>Ticker</th>\n",
              "      <th>BTC-USD</th>\n",
              "      <th>PBR-A</th>\n",
              "      <th>BTC-USD</th>\n",
              "      <th>PBR-A</th>\n",
              "      <th>BTC-USD</th>\n",
              "      <th>PBR-A</th>\n",
              "      <th>BTC-USD</th>\n",
              "      <th>PBR-A</th>\n",
              "      <th>BTC-USD</th>\n",
              "      <th>PBR-A</th>\n",
              "      <th>BTC-USD</th>\n",
              "      <th>PBR-A</th>\n",
              "    </tr>\n",
              "    <tr>\n",
              "      <th>Date</th>\n",
              "      <th></th>\n",
              "      <th></th>\n",
              "      <th></th>\n",
              "      <th></th>\n",
              "      <th></th>\n",
              "      <th></th>\n",
              "      <th></th>\n",
              "      <th></th>\n",
              "      <th></th>\n",
              "      <th></th>\n",
              "      <th></th>\n",
              "      <th></th>\n",
              "    </tr>\n",
              "  </thead>\n",
              "  <tbody>\n",
              "  </tbody>\n",
              "</table>\n",
              "</div>\n",
              "    <div class=\"colab-df-buttons\">\n",
              "\n",
              "  <div class=\"colab-df-container\">\n",
              "    <button class=\"colab-df-convert\" onclick=\"convertToInteractive('df-c83349d7-672f-4344-b2c1-a52ceb1f2dbe')\"\n",
              "            title=\"Convert this dataframe to an interactive table.\"\n",
              "            style=\"display:none;\">\n",
              "\n",
              "  <svg xmlns=\"http://www.w3.org/2000/svg\" height=\"24px\" viewBox=\"0 -960 960 960\">\n",
              "    <path d=\"M120-120v-720h720v720H120Zm60-500h600v-160H180v160Zm220 220h160v-160H400v160Zm0 220h160v-160H400v160ZM180-400h160v-160H180v160Zm440 0h160v-160H620v160ZM180-180h160v-160H180v160Zm440 0h160v-160H620v160Z\"/>\n",
              "  </svg>\n",
              "    </button>\n",
              "\n",
              "  <style>\n",
              "    .colab-df-container {\n",
              "      display:flex;\n",
              "      gap: 12px;\n",
              "    }\n",
              "\n",
              "    .colab-df-convert {\n",
              "      background-color: #E8F0FE;\n",
              "      border: none;\n",
              "      border-radius: 50%;\n",
              "      cursor: pointer;\n",
              "      display: none;\n",
              "      fill: #1967D2;\n",
              "      height: 32px;\n",
              "      padding: 0 0 0 0;\n",
              "      width: 32px;\n",
              "    }\n",
              "\n",
              "    .colab-df-convert:hover {\n",
              "      background-color: #E2EBFA;\n",
              "      box-shadow: 0px 1px 2px rgba(60, 64, 67, 0.3), 0px 1px 3px 1px rgba(60, 64, 67, 0.15);\n",
              "      fill: #174EA6;\n",
              "    }\n",
              "\n",
              "    .colab-df-buttons div {\n",
              "      margin-bottom: 4px;\n",
              "    }\n",
              "\n",
              "    [theme=dark] .colab-df-convert {\n",
              "      background-color: #3B4455;\n",
              "      fill: #D2E3FC;\n",
              "    }\n",
              "\n",
              "    [theme=dark] .colab-df-convert:hover {\n",
              "      background-color: #434B5C;\n",
              "      box-shadow: 0px 1px 3px 1px rgba(0, 0, 0, 0.15);\n",
              "      filter: drop-shadow(0px 1px 2px rgba(0, 0, 0, 0.3));\n",
              "      fill: #FFFFFF;\n",
              "    }\n",
              "  </style>\n",
              "\n",
              "    <script>\n",
              "      const buttonEl =\n",
              "        document.querySelector('#df-c83349d7-672f-4344-b2c1-a52ceb1f2dbe button.colab-df-convert');\n",
              "      buttonEl.style.display =\n",
              "        google.colab.kernel.accessAllowed ? 'block' : 'none';\n",
              "\n",
              "      async function convertToInteractive(key) {\n",
              "        const element = document.querySelector('#df-c83349d7-672f-4344-b2c1-a52ceb1f2dbe');\n",
              "        const dataTable =\n",
              "          await google.colab.kernel.invokeFunction('convertToInteractive',\n",
              "                                                    [key], {});\n",
              "        if (!dataTable) return;\n",
              "\n",
              "        const docLinkHtml = 'Like what you see? Visit the ' +\n",
              "          '<a target=\"_blank\" href=https://colab.research.google.com/notebooks/data_table.ipynb>data table notebook</a>'\n",
              "          + ' to learn more about interactive tables.';\n",
              "        element.innerHTML = '';\n",
              "        dataTable['output_type'] = 'display_data';\n",
              "        await google.colab.output.renderOutput(dataTable, element);\n",
              "        const docLink = document.createElement('div');\n",
              "        docLink.innerHTML = docLinkHtml;\n",
              "        element.appendChild(docLink);\n",
              "      }\n",
              "    </script>\n",
              "  </div>\n",
              "\n",
              "\n",
              "  <div id=\"id_412ffb1f-b344-450c-8baa-feeae5d0be5b\">\n",
              "    <style>\n",
              "      .colab-df-generate {\n",
              "        background-color: #E8F0FE;\n",
              "        border: none;\n",
              "        border-radius: 50%;\n",
              "        cursor: pointer;\n",
              "        display: none;\n",
              "        fill: #1967D2;\n",
              "        height: 32px;\n",
              "        padding: 0 0 0 0;\n",
              "        width: 32px;\n",
              "      }\n",
              "\n",
              "      .colab-df-generate:hover {\n",
              "        background-color: #E2EBFA;\n",
              "        box-shadow: 0px 1px 2px rgba(60, 64, 67, 0.3), 0px 1px 3px 1px rgba(60, 64, 67, 0.15);\n",
              "        fill: #174EA6;\n",
              "      }\n",
              "\n",
              "      [theme=dark] .colab-df-generate {\n",
              "        background-color: #3B4455;\n",
              "        fill: #D2E3FC;\n",
              "      }\n",
              "\n",
              "      [theme=dark] .colab-df-generate:hover {\n",
              "        background-color: #434B5C;\n",
              "        box-shadow: 0px 1px 3px 1px rgba(0, 0, 0, 0.15);\n",
              "        filter: drop-shadow(0px 1px 2px rgba(0, 0, 0, 0.3));\n",
              "        fill: #FFFFFF;\n",
              "      }\n",
              "    </style>\n",
              "    <button class=\"colab-df-generate\" onclick=\"generateWithVariable('dados')\"\n",
              "            title=\"Generate code using this dataframe.\"\n",
              "            style=\"display:none;\">\n",
              "\n",
              "  <svg xmlns=\"http://www.w3.org/2000/svg\" height=\"24px\"viewBox=\"0 0 24 24\"\n",
              "       width=\"24px\">\n",
              "    <path d=\"M7,19H8.4L18.45,9,17,7.55,7,17.6ZM5,21V16.75L18.45,3.32a2,2,0,0,1,2.83,0l1.4,1.43a1.91,1.91,0,0,1,.58,1.4,1.91,1.91,0,0,1-.58,1.4L9.25,21ZM18.45,9,17,7.55Zm-12,3A5.31,5.31,0,0,0,4.9,8.1,5.31,5.31,0,0,0,1,6.5,5.31,5.31,0,0,0,4.9,4.9,5.31,5.31,0,0,0,6.5,1,5.31,5.31,0,0,0,8.1,4.9,5.31,5.31,0,0,0,12,6.5,5.46,5.46,0,0,0,6.5,12Z\"/>\n",
              "  </svg>\n",
              "    </button>\n",
              "    <script>\n",
              "      (() => {\n",
              "      const buttonEl =\n",
              "        document.querySelector('#id_412ffb1f-b344-450c-8baa-feeae5d0be5b button.colab-df-generate');\n",
              "      buttonEl.style.display =\n",
              "        google.colab.kernel.accessAllowed ? 'block' : 'none';\n",
              "\n",
              "      buttonEl.onclick = () => {\n",
              "        google.colab.notebook.generateWithVariable('dados');\n",
              "      }\n",
              "      })();\n",
              "    </script>\n",
              "  </div>\n",
              "\n",
              "    </div>\n",
              "  </div>\n"
            ],
            "application/vnd.google.colaboratory.intrinsic+json": {
              "type": "dataframe",
              "variable_name": "dados",
              "summary": "{\n  \"name\": \"dados\",\n  \"rows\": 0,\n  \"fields\": [\n    {\n      \"column\": [\n        \"Date\",\n        \"\"\n      ],\n      \"properties\": {\n        \"dtype\": \"date\",\n        \"min\": \"NaT\",\n        \"max\": \"NaT\",\n        \"num_unique_values\": 0,\n        \"samples\": [],\n        \"semantic_type\": \"\",\n        \"description\": \"\"\n      }\n    },\n    {\n      \"column\": [\n        \"Adj Close\",\n        \"BTC-USD\"\n      ],\n      \"properties\": {\n        \"dtype\": \"number\",\n        \"std\": null,\n        \"min\": null,\n        \"max\": null,\n        \"num_unique_values\": 0,\n        \"samples\": [],\n        \"semantic_type\": \"\",\n        \"description\": \"\"\n      }\n    },\n    {\n      \"column\": [\n        \"Adj Close\",\n        \"PBR-A\"\n      ],\n      \"properties\": {\n        \"dtype\": \"number\",\n        \"std\": null,\n        \"min\": null,\n        \"max\": null,\n        \"num_unique_values\": 0,\n        \"samples\": [],\n        \"semantic_type\": \"\",\n        \"description\": \"\"\n      }\n    },\n    {\n      \"column\": [\n        \"Close\",\n        \"BTC-USD\"\n      ],\n      \"properties\": {\n        \"dtype\": \"number\",\n        \"std\": null,\n        \"min\": null,\n        \"max\": null,\n        \"num_unique_values\": 0,\n        \"samples\": [],\n        \"semantic_type\": \"\",\n        \"description\": \"\"\n      }\n    },\n    {\n      \"column\": [\n        \"Close\",\n        \"PBR-A\"\n      ],\n      \"properties\": {\n        \"dtype\": \"number\",\n        \"std\": null,\n        \"min\": null,\n        \"max\": null,\n        \"num_unique_values\": 0,\n        \"samples\": [],\n        \"semantic_type\": \"\",\n        \"description\": \"\"\n      }\n    },\n    {\n      \"column\": [\n        \"High\",\n        \"BTC-USD\"\n      ],\n      \"properties\": {\n        \"dtype\": \"number\",\n        \"std\": null,\n        \"min\": null,\n        \"max\": null,\n        \"num_unique_values\": 0,\n        \"samples\": [],\n        \"semantic_type\": \"\",\n        \"description\": \"\"\n      }\n    },\n    {\n      \"column\": [\n        \"High\",\n        \"PBR-A\"\n      ],\n      \"properties\": {\n        \"dtype\": \"number\",\n        \"std\": null,\n        \"min\": null,\n        \"max\": null,\n        \"num_unique_values\": 0,\n        \"samples\": [],\n        \"semantic_type\": \"\",\n        \"description\": \"\"\n      }\n    },\n    {\n      \"column\": [\n        \"Low\",\n        \"BTC-USD\"\n      ],\n      \"properties\": {\n        \"dtype\": \"number\",\n        \"std\": null,\n        \"min\": null,\n        \"max\": null,\n        \"num_unique_values\": 0,\n        \"samples\": [],\n        \"semantic_type\": \"\",\n        \"description\": \"\"\n      }\n    },\n    {\n      \"column\": [\n        \"Low\",\n        \"PBR-A\"\n      ],\n      \"properties\": {\n        \"dtype\": \"number\",\n        \"std\": null,\n        \"min\": null,\n        \"max\": null,\n        \"num_unique_values\": 0,\n        \"samples\": [],\n        \"semantic_type\": \"\",\n        \"description\": \"\"\n      }\n    },\n    {\n      \"column\": [\n        \"Open\",\n        \"BTC-USD\"\n      ],\n      \"properties\": {\n        \"dtype\": \"number\",\n        \"std\": null,\n        \"min\": null,\n        \"max\": null,\n        \"num_unique_values\": 0,\n        \"samples\": [],\n        \"semantic_type\": \"\",\n        \"description\": \"\"\n      }\n    },\n    {\n      \"column\": [\n        \"Open\",\n        \"PBR-A\"\n      ],\n      \"properties\": {\n        \"dtype\": \"number\",\n        \"std\": null,\n        \"min\": null,\n        \"max\": null,\n        \"num_unique_values\": 0,\n        \"samples\": [],\n        \"semantic_type\": \"\",\n        \"description\": \"\"\n      }\n    },\n    {\n      \"column\": [\n        \"Volume\",\n        \"BTC-USD\"\n      ],\n      \"properties\": {\n        \"dtype\": \"number\",\n        \"std\": null,\n        \"min\": null,\n        \"max\": null,\n        \"num_unique_values\": 0,\n        \"samples\": [],\n        \"semantic_type\": \"\",\n        \"description\": \"\"\n      }\n    },\n    {\n      \"column\": [\n        \"Volume\",\n        \"PBR-A\"\n      ],\n      \"properties\": {\n        \"dtype\": \"number\",\n        \"std\": null,\n        \"min\": null,\n        \"max\": null,\n        \"num_unique_values\": 0,\n        \"samples\": [],\n        \"semantic_type\": \"\",\n        \"description\": \"\"\n      }\n    }\n  ]\n}"
            }
          },
          "metadata": {},
          "execution_count": 163
        }
      ]
    },
    {
      "cell_type": "code",
      "source": [
        "dados_sem_na = dados.dropna()\n",
        "dados_sem_na"
      ],
      "metadata": {
        "colab": {
          "base_uri": "https://localhost:8080/",
          "height": 149
        },
        "id": "VXzIsLoa6atl",
        "outputId": "6de2a868-b333-4414-9813-08beaf465856"
      },
      "execution_count": null,
      "outputs": [
        {
          "output_type": "execute_result",
          "data": {
            "text/plain": [
              "Empty DataFrame\n",
              "Columns: [(Adj Close, BTC-USD), (Adj Close, PBR-A), (Close, BTC-USD), (Close, PBR-A), (High, BTC-USD), (High, PBR-A), (Low, BTC-USD), (Low, PBR-A), (Open, BTC-USD), (Open, PBR-A), (Volume, BTC-USD), (Volume, PBR-A)]\n",
              "Index: []"
            ],
            "text/html": [
              "\n",
              "  <div id=\"df-b966fc4f-d18f-47d8-9bad-075449dea30e\" class=\"colab-df-container\">\n",
              "    <div>\n",
              "<style scoped>\n",
              "    .dataframe tbody tr th:only-of-type {\n",
              "        vertical-align: middle;\n",
              "    }\n",
              "\n",
              "    .dataframe tbody tr th {\n",
              "        vertical-align: top;\n",
              "    }\n",
              "\n",
              "    .dataframe thead tr th {\n",
              "        text-align: left;\n",
              "    }\n",
              "\n",
              "    .dataframe thead tr:last-of-type th {\n",
              "        text-align: right;\n",
              "    }\n",
              "</style>\n",
              "<table border=\"1\" class=\"dataframe\">\n",
              "  <thead>\n",
              "    <tr>\n",
              "      <th>Price</th>\n",
              "      <th colspan=\"2\" halign=\"left\">Adj Close</th>\n",
              "      <th colspan=\"2\" halign=\"left\">Close</th>\n",
              "      <th colspan=\"2\" halign=\"left\">High</th>\n",
              "      <th colspan=\"2\" halign=\"left\">Low</th>\n",
              "      <th colspan=\"2\" halign=\"left\">Open</th>\n",
              "      <th colspan=\"2\" halign=\"left\">Volume</th>\n",
              "    </tr>\n",
              "    <tr>\n",
              "      <th>Ticker</th>\n",
              "      <th>BTC-USD</th>\n",
              "      <th>PBR-A</th>\n",
              "      <th>BTC-USD</th>\n",
              "      <th>PBR-A</th>\n",
              "      <th>BTC-USD</th>\n",
              "      <th>PBR-A</th>\n",
              "      <th>BTC-USD</th>\n",
              "      <th>PBR-A</th>\n",
              "      <th>BTC-USD</th>\n",
              "      <th>PBR-A</th>\n",
              "      <th>BTC-USD</th>\n",
              "      <th>PBR-A</th>\n",
              "    </tr>\n",
              "    <tr>\n",
              "      <th>Date</th>\n",
              "      <th></th>\n",
              "      <th></th>\n",
              "      <th></th>\n",
              "      <th></th>\n",
              "      <th></th>\n",
              "      <th></th>\n",
              "      <th></th>\n",
              "      <th></th>\n",
              "      <th></th>\n",
              "      <th></th>\n",
              "      <th></th>\n",
              "      <th></th>\n",
              "    </tr>\n",
              "  </thead>\n",
              "  <tbody>\n",
              "  </tbody>\n",
              "</table>\n",
              "</div>\n",
              "    <div class=\"colab-df-buttons\">\n",
              "\n",
              "  <div class=\"colab-df-container\">\n",
              "    <button class=\"colab-df-convert\" onclick=\"convertToInteractive('df-b966fc4f-d18f-47d8-9bad-075449dea30e')\"\n",
              "            title=\"Convert this dataframe to an interactive table.\"\n",
              "            style=\"display:none;\">\n",
              "\n",
              "  <svg xmlns=\"http://www.w3.org/2000/svg\" height=\"24px\" viewBox=\"0 -960 960 960\">\n",
              "    <path d=\"M120-120v-720h720v720H120Zm60-500h600v-160H180v160Zm220 220h160v-160H400v160Zm0 220h160v-160H400v160ZM180-400h160v-160H180v160Zm440 0h160v-160H620v160ZM180-180h160v-160H180v160Zm440 0h160v-160H620v160Z\"/>\n",
              "  </svg>\n",
              "    </button>\n",
              "\n",
              "  <style>\n",
              "    .colab-df-container {\n",
              "      display:flex;\n",
              "      gap: 12px;\n",
              "    }\n",
              "\n",
              "    .colab-df-convert {\n",
              "      background-color: #E8F0FE;\n",
              "      border: none;\n",
              "      border-radius: 50%;\n",
              "      cursor: pointer;\n",
              "      display: none;\n",
              "      fill: #1967D2;\n",
              "      height: 32px;\n",
              "      padding: 0 0 0 0;\n",
              "      width: 32px;\n",
              "    }\n",
              "\n",
              "    .colab-df-convert:hover {\n",
              "      background-color: #E2EBFA;\n",
              "      box-shadow: 0px 1px 2px rgba(60, 64, 67, 0.3), 0px 1px 3px 1px rgba(60, 64, 67, 0.15);\n",
              "      fill: #174EA6;\n",
              "    }\n",
              "\n",
              "    .colab-df-buttons div {\n",
              "      margin-bottom: 4px;\n",
              "    }\n",
              "\n",
              "    [theme=dark] .colab-df-convert {\n",
              "      background-color: #3B4455;\n",
              "      fill: #D2E3FC;\n",
              "    }\n",
              "\n",
              "    [theme=dark] .colab-df-convert:hover {\n",
              "      background-color: #434B5C;\n",
              "      box-shadow: 0px 1px 3px 1px rgba(0, 0, 0, 0.15);\n",
              "      filter: drop-shadow(0px 1px 2px rgba(0, 0, 0, 0.3));\n",
              "      fill: #FFFFFF;\n",
              "    }\n",
              "  </style>\n",
              "\n",
              "    <script>\n",
              "      const buttonEl =\n",
              "        document.querySelector('#df-b966fc4f-d18f-47d8-9bad-075449dea30e button.colab-df-convert');\n",
              "      buttonEl.style.display =\n",
              "        google.colab.kernel.accessAllowed ? 'block' : 'none';\n",
              "\n",
              "      async function convertToInteractive(key) {\n",
              "        const element = document.querySelector('#df-b966fc4f-d18f-47d8-9bad-075449dea30e');\n",
              "        const dataTable =\n",
              "          await google.colab.kernel.invokeFunction('convertToInteractive',\n",
              "                                                    [key], {});\n",
              "        if (!dataTable) return;\n",
              "\n",
              "        const docLinkHtml = 'Like what you see? Visit the ' +\n",
              "          '<a target=\"_blank\" href=https://colab.research.google.com/notebooks/data_table.ipynb>data table notebook</a>'\n",
              "          + ' to learn more about interactive tables.';\n",
              "        element.innerHTML = '';\n",
              "        dataTable['output_type'] = 'display_data';\n",
              "        await google.colab.output.renderOutput(dataTable, element);\n",
              "        const docLink = document.createElement('div');\n",
              "        docLink.innerHTML = docLinkHtml;\n",
              "        element.appendChild(docLink);\n",
              "      }\n",
              "    </script>\n",
              "  </div>\n",
              "\n",
              "\n",
              "  <div id=\"id_6e8cdf69-b07c-4985-bdc5-9eb786bc2c10\">\n",
              "    <style>\n",
              "      .colab-df-generate {\n",
              "        background-color: #E8F0FE;\n",
              "        border: none;\n",
              "        border-radius: 50%;\n",
              "        cursor: pointer;\n",
              "        display: none;\n",
              "        fill: #1967D2;\n",
              "        height: 32px;\n",
              "        padding: 0 0 0 0;\n",
              "        width: 32px;\n",
              "      }\n",
              "\n",
              "      .colab-df-generate:hover {\n",
              "        background-color: #E2EBFA;\n",
              "        box-shadow: 0px 1px 2px rgba(60, 64, 67, 0.3), 0px 1px 3px 1px rgba(60, 64, 67, 0.15);\n",
              "        fill: #174EA6;\n",
              "      }\n",
              "\n",
              "      [theme=dark] .colab-df-generate {\n",
              "        background-color: #3B4455;\n",
              "        fill: #D2E3FC;\n",
              "      }\n",
              "\n",
              "      [theme=dark] .colab-df-generate:hover {\n",
              "        background-color: #434B5C;\n",
              "        box-shadow: 0px 1px 3px 1px rgba(0, 0, 0, 0.15);\n",
              "        filter: drop-shadow(0px 1px 2px rgba(0, 0, 0, 0.3));\n",
              "        fill: #FFFFFF;\n",
              "      }\n",
              "    </style>\n",
              "    <button class=\"colab-df-generate\" onclick=\"generateWithVariable('dados_sem_na')\"\n",
              "            title=\"Generate code using this dataframe.\"\n",
              "            style=\"display:none;\">\n",
              "\n",
              "  <svg xmlns=\"http://www.w3.org/2000/svg\" height=\"24px\"viewBox=\"0 0 24 24\"\n",
              "       width=\"24px\">\n",
              "    <path d=\"M7,19H8.4L18.45,9,17,7.55,7,17.6ZM5,21V16.75L18.45,3.32a2,2,0,0,1,2.83,0l1.4,1.43a1.91,1.91,0,0,1,.58,1.4,1.91,1.91,0,0,1-.58,1.4L9.25,21ZM18.45,9,17,7.55Zm-12,3A5.31,5.31,0,0,0,4.9,8.1,5.31,5.31,0,0,0,1,6.5,5.31,5.31,0,0,0,4.9,4.9,5.31,5.31,0,0,0,6.5,1,5.31,5.31,0,0,0,8.1,4.9,5.31,5.31,0,0,0,12,6.5,5.46,5.46,0,0,0,6.5,12Z\"/>\n",
              "  </svg>\n",
              "    </button>\n",
              "    <script>\n",
              "      (() => {\n",
              "      const buttonEl =\n",
              "        document.querySelector('#id_6e8cdf69-b07c-4985-bdc5-9eb786bc2c10 button.colab-df-generate');\n",
              "      buttonEl.style.display =\n",
              "        google.colab.kernel.accessAllowed ? 'block' : 'none';\n",
              "\n",
              "      buttonEl.onclick = () => {\n",
              "        google.colab.notebook.generateWithVariable('dados_sem_na');\n",
              "      }\n",
              "      })();\n",
              "    </script>\n",
              "  </div>\n",
              "\n",
              "    </div>\n",
              "  </div>\n"
            ],
            "application/vnd.google.colaboratory.intrinsic+json": {
              "type": "dataframe",
              "variable_name": "dados_sem_na",
              "summary": "{\n  \"name\": \"dados_sem_na\",\n  \"rows\": 0,\n  \"fields\": [\n    {\n      \"column\": [\n        \"Date\",\n        \"\"\n      ],\n      \"properties\": {\n        \"dtype\": \"date\",\n        \"min\": \"NaT\",\n        \"max\": \"NaT\",\n        \"num_unique_values\": 0,\n        \"samples\": [],\n        \"semantic_type\": \"\",\n        \"description\": \"\"\n      }\n    },\n    {\n      \"column\": [\n        \"Adj Close\",\n        \"BTC-USD\"\n      ],\n      \"properties\": {\n        \"dtype\": \"number\",\n        \"std\": null,\n        \"min\": null,\n        \"max\": null,\n        \"num_unique_values\": 0,\n        \"samples\": [],\n        \"semantic_type\": \"\",\n        \"description\": \"\"\n      }\n    },\n    {\n      \"column\": [\n        \"Adj Close\",\n        \"PBR-A\"\n      ],\n      \"properties\": {\n        \"dtype\": \"number\",\n        \"std\": null,\n        \"min\": null,\n        \"max\": null,\n        \"num_unique_values\": 0,\n        \"samples\": [],\n        \"semantic_type\": \"\",\n        \"description\": \"\"\n      }\n    },\n    {\n      \"column\": [\n        \"Close\",\n        \"BTC-USD\"\n      ],\n      \"properties\": {\n        \"dtype\": \"number\",\n        \"std\": null,\n        \"min\": null,\n        \"max\": null,\n        \"num_unique_values\": 0,\n        \"samples\": [],\n        \"semantic_type\": \"\",\n        \"description\": \"\"\n      }\n    },\n    {\n      \"column\": [\n        \"Close\",\n        \"PBR-A\"\n      ],\n      \"properties\": {\n        \"dtype\": \"number\",\n        \"std\": null,\n        \"min\": null,\n        \"max\": null,\n        \"num_unique_values\": 0,\n        \"samples\": [],\n        \"semantic_type\": \"\",\n        \"description\": \"\"\n      }\n    },\n    {\n      \"column\": [\n        \"High\",\n        \"BTC-USD\"\n      ],\n      \"properties\": {\n        \"dtype\": \"number\",\n        \"std\": null,\n        \"min\": null,\n        \"max\": null,\n        \"num_unique_values\": 0,\n        \"samples\": [],\n        \"semantic_type\": \"\",\n        \"description\": \"\"\n      }\n    },\n    {\n      \"column\": [\n        \"High\",\n        \"PBR-A\"\n      ],\n      \"properties\": {\n        \"dtype\": \"number\",\n        \"std\": null,\n        \"min\": null,\n        \"max\": null,\n        \"num_unique_values\": 0,\n        \"samples\": [],\n        \"semantic_type\": \"\",\n        \"description\": \"\"\n      }\n    },\n    {\n      \"column\": [\n        \"Low\",\n        \"BTC-USD\"\n      ],\n      \"properties\": {\n        \"dtype\": \"number\",\n        \"std\": null,\n        \"min\": null,\n        \"max\": null,\n        \"num_unique_values\": 0,\n        \"samples\": [],\n        \"semantic_type\": \"\",\n        \"description\": \"\"\n      }\n    },\n    {\n      \"column\": [\n        \"Low\",\n        \"PBR-A\"\n      ],\n      \"properties\": {\n        \"dtype\": \"number\",\n        \"std\": null,\n        \"min\": null,\n        \"max\": null,\n        \"num_unique_values\": 0,\n        \"samples\": [],\n        \"semantic_type\": \"\",\n        \"description\": \"\"\n      }\n    },\n    {\n      \"column\": [\n        \"Open\",\n        \"BTC-USD\"\n      ],\n      \"properties\": {\n        \"dtype\": \"number\",\n        \"std\": null,\n        \"min\": null,\n        \"max\": null,\n        \"num_unique_values\": 0,\n        \"samples\": [],\n        \"semantic_type\": \"\",\n        \"description\": \"\"\n      }\n    },\n    {\n      \"column\": [\n        \"Open\",\n        \"PBR-A\"\n      ],\n      \"properties\": {\n        \"dtype\": \"number\",\n        \"std\": null,\n        \"min\": null,\n        \"max\": null,\n        \"num_unique_values\": 0,\n        \"samples\": [],\n        \"semantic_type\": \"\",\n        \"description\": \"\"\n      }\n    },\n    {\n      \"column\": [\n        \"Volume\",\n        \"BTC-USD\"\n      ],\n      \"properties\": {\n        \"dtype\": \"number\",\n        \"std\": null,\n        \"min\": null,\n        \"max\": null,\n        \"num_unique_values\": 0,\n        \"samples\": [],\n        \"semantic_type\": \"\",\n        \"description\": \"\"\n      }\n    },\n    {\n      \"column\": [\n        \"Volume\",\n        \"PBR-A\"\n      ],\n      \"properties\": {\n        \"dtype\": \"number\",\n        \"std\": null,\n        \"min\": null,\n        \"max\": null,\n        \"num_unique_values\": 0,\n        \"samples\": [],\n        \"semantic_type\": \"\",\n        \"description\": \"\"\n      }\n    }\n  ]\n}"
            }
          },
          "metadata": {},
          "execution_count": 162
        }
      ]
    },
    {
      "cell_type": "code",
      "source": [
        "dados_sem_na.columns"
      ],
      "metadata": {
        "colab": {
          "base_uri": "https://localhost:8080/"
        },
        "id": "kDNjiDXv7CN4",
        "outputId": "92a81976-db7c-4e32-fbff-be70b87b0bb5"
      },
      "execution_count": null,
      "outputs": [
        {
          "output_type": "execute_result",
          "data": {
            "text/plain": [
              "MultiIndex([('Adj Close', 'BTC-USD'),\n",
              "            ('Adj Close',   'PBR-A'),\n",
              "            (    'Close', 'BTC-USD'),\n",
              "            (    'Close',   'PBR-A'),\n",
              "            (     'High', 'BTC-USD'),\n",
              "            (     'High',   'PBR-A'),\n",
              "            (      'Low', 'BTC-USD'),\n",
              "            (      'Low',   'PBR-A'),\n",
              "            (     'Open', 'BTC-USD'),\n",
              "            (     'Open',   'PBR-A'),\n",
              "            (   'Volume', 'BTC-USD'),\n",
              "            (   'Volume',   'PBR-A')],\n",
              "           names=['Price', 'Ticker'])"
            ]
          },
          "metadata": {},
          "execution_count": 135
        }
      ]
    },
    {
      "cell_type": "code",
      "source": [
        "\n",
        "# Calcular retornos diarios\n",
        "retorno_btc = dados_sem_na['Close']['BTC-USD'].pct_change().dropna()\n",
        "\n",
        "\n",
        "retorno_btc"
      ],
      "metadata": {
        "colab": {
          "base_uri": "https://localhost:8080/"
        },
        "id": "NdM3FU3S6mBJ",
        "outputId": "bc5179d4-842b-47a0-d404-fb9ed710db79"
      },
      "execution_count": null,
      "outputs": [
        {
          "output_type": "execute_result",
          "data": {
            "text/plain": [
              "Series([], Name: BTC-USD, dtype: float64)"
            ],
            "text/html": [
              "<div>\n",
              "<style scoped>\n",
              "    .dataframe tbody tr th:only-of-type {\n",
              "        vertical-align: middle;\n",
              "    }\n",
              "\n",
              "    .dataframe tbody tr th {\n",
              "        vertical-align: top;\n",
              "    }\n",
              "\n",
              "    .dataframe thead th {\n",
              "        text-align: right;\n",
              "    }\n",
              "</style>\n",
              "<table border=\"1\" class=\"dataframe\">\n",
              "  <thead>\n",
              "    <tr style=\"text-align: right;\">\n",
              "      <th></th>\n",
              "      <th>BTC-USD</th>\n",
              "    </tr>\n",
              "    <tr>\n",
              "      <th>Date</th>\n",
              "      <th></th>\n",
              "    </tr>\n",
              "  </thead>\n",
              "  <tbody>\n",
              "  </tbody>\n",
              "</table>\n",
              "</div><br><label><b>dtype:</b> float64</label>"
            ]
          },
          "metadata": {},
          "execution_count": 136
        }
      ]
    },
    {
      "cell_type": "code",
      "source": [
        "# Calcular retornos diarios\n",
        "retorno_a= dados_sem_na['Close']['PBR-A'].pct_change().dropna()\n",
        "\n",
        "\n",
        "retorno_a"
      ],
      "metadata": {
        "colab": {
          "base_uri": "https://localhost:8080/"
        },
        "id": "qR_eFwvk7Qlb",
        "outputId": "ca1dfd47-2695-4b0a-8a5f-c4f3dc4285be"
      },
      "execution_count": null,
      "outputs": [
        {
          "output_type": "execute_result",
          "data": {
            "text/plain": [
              "Series([], Name: PBR-A, dtype: float64)"
            ],
            "text/html": [
              "<div>\n",
              "<style scoped>\n",
              "    .dataframe tbody tr th:only-of-type {\n",
              "        vertical-align: middle;\n",
              "    }\n",
              "\n",
              "    .dataframe tbody tr th {\n",
              "        vertical-align: top;\n",
              "    }\n",
              "\n",
              "    .dataframe thead th {\n",
              "        text-align: right;\n",
              "    }\n",
              "</style>\n",
              "<table border=\"1\" class=\"dataframe\">\n",
              "  <thead>\n",
              "    <tr style=\"text-align: right;\">\n",
              "      <th></th>\n",
              "      <th>PBR-A</th>\n",
              "    </tr>\n",
              "    <tr>\n",
              "      <th>Date</th>\n",
              "      <th></th>\n",
              "    </tr>\n",
              "  </thead>\n",
              "  <tbody>\n",
              "  </tbody>\n",
              "</table>\n",
              "</div><br><label><b>dtype:</b> float64</label>"
            ]
          },
          "metadata": {},
          "execution_count": 137
        }
      ]
    },
    {
      "cell_type": "markdown",
      "source": [
        "A equação da utilidade máxima\n",
        "Z = ax1 + ax2 +axn\n",
        "Seguindo a restrição\n",
        "restricao = px1 + px2 + pxn... <=valor orçamento"
      ],
      "metadata": {
        "id": "YUbFqt0p7v92"
      }
    },
    {
      "cell_type": "code",
      "source": [
        "\n",
        "\n",
        "# Convertendo o índice para datetime\n",
        "dados_sem_na.index = pd.to_datetime(dados_sem_na.index)\n",
        "\n",
        "# Selecionando o retorno do dia 31 de dezembro de 2024\n",
        "try:\n",
        "  retorno_btc_31_12_2024 = retorno_btc.loc['2024-12-31']\n",
        "  retorno_pbra_31_12_2024 = retorno_a.loc['2024-12-31']\n",
        "  print(f\"Retorno do BTC em 31/12/2024: {retorno_btc_31_12_2024}\")\n",
        "  print(f\"Retorno do PBR-A em 31/12/2024: {retorno_pbra_31_12_2024}\")\n",
        "except KeyError:\n",
        "  print(\"Dados para 31/12/2024 não disponíveis no conjunto de dados.\")"
      ],
      "metadata": {
        "colab": {
          "base_uri": "https://localhost:8080/"
        },
        "id": "62C-NST18Gb0",
        "outputId": "8ac9b9ea-3abc-40e9-e748-f8ed735412fd"
      },
      "execution_count": null,
      "outputs": [
        {
          "output_type": "stream",
          "name": "stdout",
          "text": [
            "Dados para 31/12/2024 não disponíveis no conjunto de dados.\n"
          ]
        }
      ]
    },
    {
      "cell_type": "code",
      "source": [
        "retorno_btc_31_12_2024 = round(retorno_btc_31_12_2024, 5)\n",
        "retorno_pbra_31_12_2024 = round(retorno_pbra_31_12_2024, 5)"
      ],
      "metadata": {
        "id": "GDNvOc3O7u6u"
      },
      "execution_count": null,
      "outputs": []
    },
    {
      "cell_type": "code",
      "source": [
        "print(retorno_btc_31_12_2024)\n",
        "print(retorno_pbra_31_12_2024)"
      ],
      "metadata": {
        "colab": {
          "base_uri": "https://localhost:8080/"
        },
        "id": "3SLm1Kbi89BL",
        "outputId": "1147ae97-6396-4ed0-850c-2ee3b4007039"
      },
      "execution_count": null,
      "outputs": [
        {
          "output_type": "stream",
          "name": "stdout",
          "text": [
            "0.00848\n",
            "0.00938\n"
          ]
        }
      ]
    },
    {
      "cell_type": "code",
      "source": [
        "!pip install sympy"
      ],
      "metadata": {
        "colab": {
          "base_uri": "https://localhost:8080/"
        },
        "id": "E33HMLig_u1g",
        "outputId": "3219384c-5889-461f-b1b4-f46cceafbce4"
      },
      "execution_count": null,
      "outputs": [
        {
          "output_type": "stream",
          "name": "stdout",
          "text": [
            "Requirement already satisfied: sympy in /usr/local/lib/python3.11/dist-packages (1.13.1)\n",
            "Requirement already satisfied: mpmath<1.4,>=1.1.0 in /usr/local/lib/python3.11/dist-packages (from sympy) (1.3.0)\n"
          ]
        }
      ]
    },
    {
      "cell_type": "code",
      "source": [
        "import sympy"
      ],
      "metadata": {
        "id": "eTynFsCIAMQp"
      },
      "execution_count": null,
      "outputs": []
    },
    {
      "cell_type": "markdown",
      "source": [
        "Calculando os menores valores possíveis da compra de btc e pbr. Já que na equação\n",
        "Z = ax1 * ax2\n",
        "Z= retorno adquirido\n",
        "a = o retorno diário do ativo, no caso, btc e pbr\n",
        "X1 e x2 a compra desses ativos\n",
        "A equação, segue a restrição\n",
        "px1 + px2 <= orçamento\n",
        "P- preço de fechamento diário de btc e pbr"
      ],
      "metadata": {
        "id": "qCiBf3_5-e9u"
      }
    },
    {
      "cell_type": "code",
      "source": [
        "\n",
        "\n",
        "\n",
        "# Define symbols for variables\n",
        "x1, x2 = sympy.symbols('x1 x2')\n",
        "z, a1, a2, p1, p2, orcamento = sympy.symbols('z a1 a2 p1 p2 orcamento')\n",
        "\n",
        "#The equation is already derived and stored in the 'equation' variable\n",
        "equation = sympy.Eq(z, a1 * x1 + a2*x2)\n",
        "print(\"Equation:\")\n",
        "print(equation)\n",
        "\n",
        "#The constraint equation is already derived and stored in the 'restricao' variable\n",
        "restricao = sympy.Eq(orcamento, p1 *x1+ p2*x2)\n",
        "print(\"\\nRestricao:\")\n",
        "restricao\n",
        "\n",
        "#To perform further operations, like substituting values, you can do so now.\n",
        "#Example:\n",
        "#values = {a1: 0.01, a2: 0.02, x1: 10, x2: 20}\n",
        "#substituted_equation = equation.subs(values)\n",
        "#print(\"\\nSubstituted Equation:\")\n",
        "#print(substituted_equation)"
      ],
      "metadata": {
        "colab": {
          "base_uri": "https://localhost:8080/"
        },
        "id": "06en5DrF_9hG",
        "outputId": "d63d822d-3c0c-417e-9862-0b5bc080973a"
      },
      "execution_count": null,
      "outputs": [
        {
          "output_type": "stream",
          "name": "stdout",
          "text": [
            "Equation:\n",
            "Eq(z, a1*x1 + a2*x2)\n",
            "\n",
            "Restricao:\n"
          ]
        },
        {
          "output_type": "execute_result",
          "data": {
            "text/plain": [
              "Eq(orcamento, p1*x1 + p2*x2)"
            ],
            "text/latex": "$\\displaystyle orcamento = p_{1} x_{1} + p_{2} x_{2}$"
          },
          "metadata": {},
          "execution_count": 143
        }
      ]
    },
    {
      "cell_type": "code",
      "source": [
        "\n",
        "\n",
        "# Calculate partial derivatives\n",
        "dz_dx1 = sympy.diff(equation, x1)\n",
        "dz_dx2 = sympy.diff(equation, x2)\n",
        "\n",
        "print(\"\\nPartial derivative of z with respect to x1:\")\n",
        "print(dz_dx1)\n",
        "\n",
        "print(\"\\nPartial derivative of z with respect to x2:\")\n",
        "dz_dx2"
      ],
      "metadata": {
        "colab": {
          "base_uri": "https://localhost:8080/"
        },
        "id": "a3V5fpuRAic2",
        "outputId": "3d19070a-78cc-4203-8f96-8f95908a17ee"
      },
      "execution_count": null,
      "outputs": [
        {
          "output_type": "stream",
          "name": "stdout",
          "text": [
            "\n",
            "Partial derivative of z with respect to x1:\n",
            "Derivative(Eq(z, a1*x1 + a2*x2), x1)\n",
            "\n",
            "Partial derivative of z with respect to x2:\n"
          ]
        },
        {
          "output_type": "execute_result",
          "data": {
            "text/plain": [
              "Derivative(Eq(z, a1*x1 + a2*x2), x2)"
            ],
            "text/latex": "$\\displaystyle \\frac{\\partial}{\\partial x_{2}} z = a_{1} x_{1} + a_{2} x_{2}$"
          },
          "metadata": {},
          "execution_count": 144
        }
      ]
    },
    {
      "cell_type": "code",
      "source": [
        "# prompt: equation = sympy.Eq(z, a1 * x1 + a2*x2) encontre as derivadas parciais em x1 e x2\n",
        "\n",
        "# Calculate partial derivatives\n",
        "dz_dx1 = sympy.diff(equation.rhs, x1) # Use .rhs to differentiate the right-hand side\n",
        "dz_dx2 = sympy.diff(equation.rhs, x2) # Use .rhs to differentiate the right-hand side\n",
        "\n",
        "print(\"\\nPartial derivative of z with respect to x1:\")\n",
        "print(dz_dx1)\n",
        "\n",
        "print(\"\\nPartial derivative of z with respect to x2:\")\n",
        "dz_dx2"
      ],
      "metadata": {
        "colab": {
          "base_uri": "https://localhost:8080/"
        },
        "id": "p0tFGw_hBITz",
        "outputId": "6050724f-414c-404c-de03-d343d0a94892"
      },
      "execution_count": null,
      "outputs": [
        {
          "output_type": "stream",
          "name": "stdout",
          "text": [
            "\n",
            "Partial derivative of z with respect to x1:\n",
            "a1\n",
            "\n",
            "Partial derivative of z with respect to x2:\n"
          ]
        },
        {
          "output_type": "execute_result",
          "data": {
            "text/plain": [
              "a2"
            ],
            "text/latex": "$\\displaystyle a_{2}$"
          },
          "metadata": {},
          "execution_count": 145
        }
      ]
    },
    {
      "cell_type": "markdown",
      "source": [
        "Então os menores valores são:\n",
        "0.008484077565384274 btc\n",
        "0.00937771650846897 pbr"
      ],
      "metadata": {
        "id": "7gEauBlTBV2V"
      }
    },
    {
      "cell_type": "markdown",
      "source": [
        "Testando esses valores na função base\n",
        "Z= ax1 + ax2, para verificar se obedecem a restrição"
      ],
      "metadata": {
        "id": "9MoIH8bkBmfQ"
      }
    },
    {
      "cell_type": "code",
      "source": [
        "z = (retorno_btc_31_12_2024 *dz_dx1) + (retorno_pbra_31_12_2024 *dz_dx2)\n",
        "print(z)"
      ],
      "metadata": {
        "colab": {
          "base_uri": "https://localhost:8080/"
        },
        "id": "1BahtcLLBi92",
        "outputId": "c1e9c073-d7fe-45ba-d065-83b5840d3455"
      },
      "execution_count": null,
      "outputs": [
        {
          "output_type": "stream",
          "name": "stdout",
          "text": [
            "0.00848*a1 + 0.00938*a2\n"
          ]
        }
      ]
    },
    {
      "cell_type": "markdown",
      "source": [
        " Trabalhando na restrição, nesse exemplo: 100.000,00"
      ],
      "metadata": {
        "id": "M3541cQDDAhV"
      }
    },
    {
      "cell_type": "markdown",
      "source": [
        "Quantos btc e ações da petra, consigo comprar?"
      ],
      "metadata": {
        "id": "JMNCEkZ5E6RG"
      }
    },
    {
      "cell_type": "code",
      "source": [
        "\n",
        "saldo = 1000.000\n",
        "\n",
        "total_btc = saldo/btc_f_preco\n",
        "total_a = saldo/pbr_a_preco\n",
        "print(total_btc)\n",
        "print(total_a)"
      ],
      "metadata": {
        "colab": {
          "base_uri": "https://localhost:8080/"
        },
        "id": "xV4cr250FAiR",
        "outputId": "80bc5f42-64bb-4991-f700-c52853cdb395"
      },
      "execution_count": null,
      "outputs": [
        {
          "output_type": "stream",
          "name": "stdout",
          "text": [
            "0.010703291546456717\n",
            "84.45945837098897\n"
          ]
        }
      ]
    },
    {
      "cell_type": "markdown",
      "source": [
        "Testando para 0 btc e 84 ações"
      ],
      "metadata": {
        "id": "hbXDQPGnKIEm"
      }
    },
    {
      "cell_type": "code",
      "source": [
        "compra_btc =0\n",
        "compra_a = 84\n",
        "z = (retorno_btc_31_12_2024 *compra_btc) + (retorno_pbra_31_12_2024 *compra_a)\n",
        "print(z)"
      ],
      "metadata": {
        "colab": {
          "base_uri": "https://localhost:8080/"
        },
        "id": "IOh2xnbBCb2k",
        "outputId": "c1a242b7-5e1e-40ab-b747-3db81e47d154"
      },
      "execution_count": null,
      "outputs": [
        {
          "output_type": "stream",
          "name": "stdout",
          "text": [
            "0.78792\n"
          ]
        }
      ]
    },
    {
      "cell_type": "code",
      "source": [
        "\n",
        "# pegando os valores de fechamento de btc e pbr do dia 31/12/24\n",
        "try:\n",
        "    btc_f_preco = dados_sem_na['Close']['BTC-USD'].loc['2024-12-31']\n",
        "    pbr_a_preco = dados_sem_na['Close']['PBR-A'].loc['2024-12-31']\n",
        "    print(f\"Preço de fechamento do BTC em 31/12/2024: {btc_f_preco}\")\n",
        "    print(f\"Preço de fechamento do PBR-A em 31/12/2024: {pbr_a_preco}\")\n",
        "except KeyError:\n",
        "    print(\"Dados para 31/12/2024 não disponíveis no conjunto de dados.\")"
      ],
      "metadata": {
        "colab": {
          "base_uri": "https://localhost:8080/"
        },
        "id": "Rbamd0sFC_qA",
        "outputId": "a0b00808-a7de-4965-ae42-9c337c996de2"
      },
      "execution_count": null,
      "outputs": [
        {
          "output_type": "stream",
          "name": "stdout",
          "text": [
            "Dados para 31/12/2024 não disponíveis no conjunto de dados.\n"
          ]
        }
      ]
    },
    {
      "cell_type": "markdown",
      "source": [
        "Então podemos supor que só podemos comprar aproximadamente 00010 btc e 0.84 ações com 1 btc e 80 ações"
      ],
      "metadata": {
        "id": "Psw9plTlHsTP"
      }
    },
    {
      "source": [
        "def restricao (compra_btc, compra_a) :\n",
        "    if compra_btc <= total_btc and compra_a<=total_a:\n",
        "        restricao = (btc_f_preco * compra_btc) + (pbr_a_preco *compra_a)\n",
        "        restricao = round(restricao, 5)\n",
        "        return restricao\n",
        "    else:\n",
        "        print(\"limite excedido! \")\n",
        "        return compra_btc,compra_a # Remove the unnecessary and wrongly indented lines after this return statement"
      ],
      "cell_type": "code",
      "metadata": {
        "id": "s1Ni9hV3Jki4"
      },
      "execution_count": null,
      "outputs": []
    },
    {
      "cell_type": "code",
      "source": [
        "valor_restricao= restricao(compra_btc,compra_a)\n",
        "print(valor_restricao)"
      ],
      "metadata": {
        "colab": {
          "base_uri": "https://localhost:8080/"
        },
        "id": "5OZWna0QHLz_",
        "outputId": "1e883fff-1562-4705-93f2-6b45e3573acd"
      },
      "execution_count": null,
      "outputs": [
        {
          "output_type": "stream",
          "name": "stdout",
          "text": [
            "994.56001\n"
          ]
        }
      ]
    },
    {
      "cell_type": "code",
      "source": [
        "# prompt: Resolve a equação p*x1 + p*x2= 994.56001,sendo p o preço de fechamento do dia 31/12/24 de btc e pbr e x1 e x2 a compra de btc e pbr respectivamente\n",
        "\n",
        "# Assuming btc_f_preco and pbr_a_preco are defined from previous code.\n",
        "# And x1 and x2 represent the quantities of BTC and PBR respectively.\n",
        "\n",
        "#import sympy\n",
        "\n",
        "p = sympy.Symbol('p')  # Price\n",
        "x1 = sympy.Symbol('x1') # Quantity of BTC\n",
        "x2 = sympy.Symbol('x2')  # Quantity of PBR\n",
        "\n",
        "# Define the equation\n",
        "equation = sympy.Eq(p * x1 + p * x2, 994.56001)\n",
        "\n",
        "# Solve for x1 in terms of p and x2 (or vice-versa)\n",
        "solution = sympy.solve(equation, x1)\n",
        "print(solution)\n",
        "\n",
        "# Example: substitute a price for 'p'\n",
        "# Let's assume p = btc_f_preco (price of BTC on 31/12/2024) from your previous code.\n",
        "\n",
        "#Substitute the value and print the result. Assuming btc_f_preco is defined from your previous code:\n",
        "if 'btc_f_preco' in locals():\n",
        "  substituted_solution = [sol.subs({p: btc_f_preco}) for sol in solution]\n",
        "  print(f\"Solution with p = btc_f_preco ({btc_f_preco}):\")\n",
        "  print(substituted_solution)\n",
        "else:\n",
        "  print(\"btc_f_preco not defined. Please make sure to run the previous code first.\")\n",
        "\n",
        "\n",
        "#The following code will only work if btc_f_preco is defined\n",
        "if 'btc_f_preco' in locals():\n",
        "  # Example:  Solve for x2\n",
        "  solution_x2 = sympy.solve(equation, x2)\n",
        "\n",
        "  #Substitute the value and print the result.\n",
        "  substituted_solution_x2 = [sol.subs({p: btc_f_preco}) for sol in solution_x2]\n",
        "  print(f\"Solution for x2 with p = btc_f_preco ({btc_f_preco}):\")\n",
        "  print(substituted_solution_x2)\n",
        "else:\n",
        "  print(\"btc_f_preco not defined. Please make sure to run the previous code first.\")"
      ],
      "metadata": {
        "colab": {
          "base_uri": "https://localhost:8080/"
        },
        "id": "Bxrg8gBCK1sj",
        "outputId": "57f488a5-925d-4494-8e70-ec8fccc839fb"
      },
      "execution_count": null,
      "outputs": [
        {
          "output_type": "stream",
          "name": "stdout",
          "text": [
            "[-x2 + 994.56001/p]\n",
            "Solution with p = btc_f_preco (93429.203125):\n",
            "[0.0106450657474769 - x2]\n",
            "Solution for x2 with p = btc_f_preco (93429.203125):\n",
            "[0.0106450657474769 - x1]\n"
          ]
        }
      ]
    },
    {
      "cell_type": "code",
      "source": [
        "print(substituted_solution_x2)"
      ],
      "metadata": {
        "colab": {
          "base_uri": "https://localhost:8080/"
        },
        "id": "4_UTlU-FL82r",
        "outputId": "d607fcda-5bec-4b57-d068-87e7cb86006d"
      },
      "execution_count": null,
      "outputs": [
        {
          "output_type": "stream",
          "name": "stdout",
          "text": [
            "[0.0106450657474769 - x1]\n"
          ]
        }
      ]
    },
    {
      "source": [
        "# prompt: Resolve a equação z= a1* x1+ a2 *x2, sendo a1 o retorno do btc do dia 31/12/2024 e a2 da ação pbr do dia 31/12/2024,  substituindo x2 por  [0.0106450657474769 - x1]\n",
        "\n",
        "# Assuming retorno_btc_31_12_2024 and retorno_pbra_31_12_2024 are defined from previous code.\n",
        "import sympy\n",
        "\n",
        "# Define symbols\n",
        "x1, x2 = sympy.symbols('x1 x2')\n",
        "z = sympy.Symbol('z')\n",
        "\n",
        "# Define the equation\n",
        "# Instead of multiplying directly by substituted_solution_x2 (which is a list),\n",
        "# we access its first element [0], assuming it contains the single solution for x2.\n",
        "# prompt: Resolve a equação z= a1* x1+ a2 *x2, sendo a1 o retorno do btc do dia 31/12/2024 e a2 da ação pbr do dia 31/12/2024,  substituindo x2 por  [0.0106450657474769 - x1]\n",
        "\n",
        "# Assuming retorno_btc_31_12_2024 and retorno_pbra_31_12_2024 are defined from previous code.\n",
        "import sympy\n",
        "\n",
        "# Define symbols\n",
        "x1, x2 = sympy.symbols('x1 x2')\n",
        "z = sympy.Symbol('z')\n",
        "\n",
        "# Define the equation\n",
        "# Instead of multiplying directly by substituted_solution_x2 (which is a list),\n",
        "# we access its first element [0], assuming it contains the single solution for x2.\n",
        "equation = sympy.Eq(z, retorno_btc_31_12_2024 * x1 + retorno_pbra_31_12_2024 * substituted_solution_x2[0])"
      ],
      "cell_type": "code",
      "metadata": {
        "id": "7GCIOhOsPm4c"
      },
      "execution_count": null,
      "outputs": []
    },
    {
      "cell_type": "code",
      "source": [
        "# prompt: equation = sympy.Eq(z, retorno_btc_31_12_2024 * x1 + retorno_pbra_31_12_2024 * substituted_solution_x2[0]) resolve a equação\n",
        "\n",
        "# Solve the equation for z\n",
        "solution_z = sympy.solve(equation, z)\n",
        "print(f\"Solution for z: {solution_z}\")"
      ],
      "metadata": {
        "colab": {
          "base_uri": "https://localhost:8080/"
        },
        "id": "aA5CEuQYQTaN",
        "outputId": "33f9e0ef-fabe-430c-f5eb-b66e95834dcd"
      },
      "execution_count": null,
      "outputs": [
        {
          "output_type": "stream",
          "name": "stdout",
          "text": [
            "Solution for z: [9.98507167113334e-5 - 0.0009*x1]\n"
          ]
        }
      ]
    }
  ]
}